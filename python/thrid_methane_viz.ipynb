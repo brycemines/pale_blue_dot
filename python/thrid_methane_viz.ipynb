{
 "cells": [
  {
   "cell_type": "code",
   "execution_count": 2,
   "metadata": {},
   "outputs": [
    {
     "ename": "SyntaxError",
     "evalue": "invalid syntax (circle_visualization.py, line 84)",
     "output_type": "error",
     "traceback": [
      "Traceback \u001b[1;36m(most recent call last)\u001b[0m:\n",
      "\u001b[0m  File \u001b[0;32m~\\AppData\\Local\\Programs\\Python\\Python39\\lib\\site-packages\\IPython\\core\\interactiveshell.py:3550\u001b[0m in \u001b[0;35mrun_code\u001b[0m\n    exec(code_obj, self.user_global_ns, self.user_ns)\u001b[0m\n",
      "\u001b[1;36m  Cell \u001b[1;32mIn[2], line 3\u001b[1;36m\n\u001b[1;33m    from circle_visualization import *\u001b[1;36m\n",
      "\u001b[1;36m  File \u001b[1;32m~\\OneDrive - Colorado School of Mines\\Semester 4\\Pale Blue Dot Challenge\\pale_blue_dot\\python\\circle_visualization.py:84\u001b[1;36m\u001b[0m\n\u001b[1;33m    return self.d\u001b[0m\n\u001b[1;37m    ^\u001b[0m\n\u001b[1;31mSyntaxError\u001b[0m\u001b[1;31m:\u001b[0m invalid syntax\n"
     ]
    }
   ],
   "source": [
    "import numpy as np \n",
    "import pandas as pd \n",
    "from circle_visualization import *"
   ]
  },
  {
   "cell_type": "code",
   "execution_count": null,
   "metadata": {},
   "outputs": [],
   "source": [
    "methane_data = pd.read_csv('../data/methane.csv')\n",
    "\n",
    "year_values = methane_data['TIME'].values\n",
    "methane_values = methane_data['unknown'].values\n",
    "\n",
    "# get the most recent 10 years\n",
    "recent_methane_values = methane_values[:]\n",
    "recent_year_values = year_values[:]\n",
    "\n",
    "inv_methane_values = recent_methane_values[::-1]\n",
    "inv_year_values = recent_year_values[::-1]"
   ]
  },
  {
   "cell_type": "code",
   "execution_count": null,
   "metadata": {},
   "outputs": [],
   "source": [
    "#cell creates new list with difference between methane values\n",
    "i=0\n",
    "diff_methane_values = []\n",
    "old = 0\n",
    "for value in recent_methane_values:\n",
    "    if i != 0:\n",
    "        diff_methane_values.append(value-old)\n",
    "    old = value\n",
    "    i = i+1\n",
    "\n",
    "print(diff_methane_values)"
   ]
  },
  {
   "cell_type": "code",
   "execution_count": null,
   "metadata": {},
   "outputs": [],
   "source": [
    "methane_viz = CircleVisualization(diff_methane_values, recent_year_values)\n",
    "methane_viz.set_circle_spacing(10)\n",
    "methane_viz.set_figure_scale(5)\n",
    "methane_viz.set_circle_max_size(200)\n",
    "methane_viz.draw()"
   ]
  },
  {
   "cell_type": "code",
   "execution_count": null,
   "metadata": {},
   "outputs": [],
   "source": [
    "methane_viz.draw_colorbar()"
   ]
  },
  {
   "cell_type": "code",
   "execution_count": null,
   "metadata": {},
   "outputs": [],
   "source": [
    "methane_viz.draw()"
   ]
  }
 ],
 "metadata": {
  "kernelspec": {
   "display_name": "Python 3 (ipykernel)",
   "language": "python",
   "name": "python3"
  },
  "language_info": {
   "codemirror_mode": {
    "name": "ipython",
    "version": 3
   },
   "file_extension": ".py",
   "mimetype": "text/x-python",
   "name": "python",
   "nbconvert_exporter": "python",
   "pygments_lexer": "ipython3",
   "version": "3.9.13"
  }
 },
 "nbformat": 4,
 "nbformat_minor": 4
}
