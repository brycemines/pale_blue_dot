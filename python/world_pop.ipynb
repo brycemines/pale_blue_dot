{
 "cells": [
  {
   "cell_type": "code",
   "execution_count": 1,
   "metadata": {},
   "outputs": [],
   "source": [
    "from csv_data import CSVData"
   ]
  },
  {
   "cell_type": "code",
   "execution_count": 2,
   "metadata": {},
   "outputs": [],
   "source": [
    "pop_data = CSVData('../data/world_population_data.csv')"
   ]
  },
  {
   "cell_type": "code",
   "execution_count": 3,
   "metadata": {},
   "outputs": [
    {
     "name": "stdout",
     "output_type": "stream",
     "text": [
      "Filename: ../data/world_population_data.csv\n",
      "Number of rows: 234\n",
      "Number of columns: 16\n",
      "Column names: \n",
      "Index(['Unnamed: 0', 'Rank', 'country', 'country_code', '1980', '2000', '2010',\n",
      "       '2021', '2022', '2030', '2050', 'area', 'landAreaKm', 'growthRate',\n",
      "       'worldPercentage', 'density'],\n",
      "      dtype='object')\n",
      "First 5 rows: \n",
      "   Unnamed: 0  Rank        country country_code         1980        2000  \\\n",
      "0           0     1          China          CHN  982372466.0  1264099069   \n",
      "1           1     2          India          IND  696828385.0  1059633675   \n",
      "2           2     3  United States          USA  223140018.0   282398554   \n",
      "3           3     4      Indonesia          IDN  148177096.0   214072421   \n",
      "4           4     5       Pakistan          PAK   80624057.0   154369924   \n",
      "\n",
      "         2010        2021        2022        2030        2050       area  \\\n",
      "0  1348191368  1425893465  1425887337  1415605906  1312636325  9706961.0   \n",
      "1  1240613620  1407563842  1417173173  1514994080  1670490596  3287590.0   \n",
      "2   311182845   336997624   338289857   352162301   375391963  9372610.0   \n",
      "3   244016173   273753191   275501339   292150100   317225213  1904569.0   \n",
      "4   194454498   231402117   235824862   274029836   367808468   881912.0   \n",
      "\n",
      "   landAreaKm  growthRate  worldPercentage   density  \n",
      "0   9424702.9      0.0000           0.1788  151.2926  \n",
      "1   2973190.0      0.0068           0.1777  476.6507  \n",
      "2   9147420.0      0.0038           0.0424   36.9820  \n",
      "3   1877519.0      0.0064           0.0345  146.7369  \n",
      "4    770880.0      0.0191           0.0296  305.9164  \n"
     ]
    }
   ],
   "source": [
    "pop_data.clean_data()\n",
    "pop_data.display_stats()"
   ]
  },
  {
   "cell_type": "code",
   "execution_count": 4,
   "metadata": {},
   "outputs": [
    {
     "name": "stderr",
     "output_type": "stream",
     "text": [
      "WARNING: parse invoke code failed, This may affect feature of export code.\n"
     ]
    },
    {
     "data": {
      "application/vnd.jupyter.widget-view+json": {
       "model_id": "48dc7597a52d42f1810d8c2c283fffe1",
       "version_major": 2,
       "version_minor": 0
      },
      "text/plain": [
       "Box(children=(HTML(value='<div id=\"ifr-pyg-00060f9682ea6d30aUQWdFRJT67nMkqI\" style=\"height: auto\">\\n    <head>…"
      ]
     },
     "metadata": {},
     "output_type": "display_data"
    },
    {
     "data": {
      "text/html": [],
      "text/plain": [
       "<IPython.core.display.HTML object>"
      ]
     },
     "metadata": {},
     "output_type": "display_data"
    }
   ],
   "source": [
    "pop_data.show()"
   ]
  }
 ],
 "metadata": {
  "kernelspec": {
   "display_name": "Python 3 (ipykernel)",
   "language": "python",
   "name": "python3"
  },
  "language_info": {
   "codemirror_mode": {
    "name": "ipython",
    "version": 3
   },
   "file_extension": ".py",
   "mimetype": "text/x-python",
   "name": "python",
   "nbconvert_exporter": "python",
   "pygments_lexer": "ipython3",
   "version": "3.9.13"
  }
 },
 "nbformat": 4,
 "nbformat_minor": 4
}
