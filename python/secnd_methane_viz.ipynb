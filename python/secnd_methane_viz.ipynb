{
 "cells": [
  {
   "cell_type": "code",
   "execution_count": 1,
   "metadata": {},
   "outputs": [],
   "source": [
    "import numpy as np \n",
    "import pandas as pd \n",
    "from circle_visualization import *"
   ]
  },
  {
   "cell_type": "code",
   "execution_count": 2,
   "metadata": {},
   "outputs": [],
   "source": [
    "methane_data = pd.read_csv('../data/methane.csv')\n",
    "\n",
    "year_values = methane_data['TIME'].values\n",
    "methane_values = methane_data['unknown'].values\n",
    "\n",
    "# get the most recent 10 years\n",
    "recent_methane_values = methane_values[:]\n",
    "recent_year_values = year_values[:]\n",
    "\n",
    "inv_methane_values = recent_methane_values[::-1]\n",
    "inv_year_values = recent_year_values[::-1]"
   ]
  },
  {
   "cell_type": "code",
   "execution_count": 3,
   "metadata": {},
   "outputs": [
    {
     "data": {
      "image/svg+xml": [
       "<?xml version=\"1.0\" encoding=\"UTF-8\"?>\n",
       "<svg xmlns=\"http://www.w3.org/2000/svg\" xmlns:xlink=\"http://www.w3.org/1999/xlink\"\n",
       "     width=\"200\" height=\"100\" viewBox=\"-100.0 -50.0 200 100\" fill=\"black\">\n",
       "<defs>\n",
       "</defs>\n",
       "<circle cx=\"0\" cy=\"50\" r=\"100\" fill=\"rgb(200,3.419276148943652,50)\" />\n",
       "<circle cx=\"0\" cy=\"50\" r=\"90\" fill=\"rgb(200,11.999983967281679,50)\" />\n",
       "<circle cx=\"0\" cy=\"50\" r=\"80\" fill=\"rgb(200,31.17732220795449,50)\" />\n",
       "<circle cx=\"0\" cy=\"50\" r=\"70\" fill=\"rgb(200,43.03488632382448,50)\" />\n",
       "<circle cx=\"0\" cy=\"50\" r=\"60\" fill=\"rgb(200,59.21497249340595,50)\" />\n",
       "<circle cx=\"0\" cy=\"50\" r=\"50\" fill=\"rgb(200,69.10315947538444,50)\" />\n",
       "<circle cx=\"0\" cy=\"50\" r=\"40\" fill=\"rgb(200,78.7595339122901,50)\" />\n",
       "<circle cx=\"0\" cy=\"50\" r=\"30\" fill=\"rgb(200,85.34467403210566,50)\" />\n",
       "<circle cx=\"0\" cy=\"50\" r=\"20\" fill=\"rgb(200,91.30925551146356,50)\" />\n",
       "<circle cx=\"0\" cy=\"50\" r=\"10\" fill=\"rgb(200,103.82068519544535,50)\" />\n",
       "<circle cx=\"0\" cy=\"50\" r=\"0\" fill=\"rgb(200,112.34576738999431,50)\" />\n",
       "<circle cx=\"0\" cy=\"50\" r=\"-10\" fill=\"rgb(200,116.06374169548953,50)\" />\n",
       "<circle cx=\"0\" cy=\"50\" r=\"-20\" fill=\"rgb(200,122.83893607034301,50)\" />\n",
       "<circle cx=\"0\" cy=\"50\" r=\"-30\" fill=\"rgb(200,129.85130674416408,50)\" />\n",
       "<circle cx=\"0\" cy=\"50\" r=\"-40\" fill=\"rgb(200,137.33740460552502,50)\" />\n",
       "<circle cx=\"0\" cy=\"50\" r=\"-50\" fill=\"rgb(200,145.80530508996975,50)\" />\n",
       "<circle cx=\"0\" cy=\"50\" r=\"-60\" fill=\"rgb(200,156.10398114512142,50)\" />\n",
       "<circle cx=\"0\" cy=\"50\" r=\"-70\" fill=\"rgb(200,164.92494146820877,50)\" />\n",
       "<circle cx=\"0\" cy=\"50\" r=\"-80\" fill=\"rgb(200,165.49496811020268,50)\" />\n",
       "<circle cx=\"0\" cy=\"50\" r=\"-90\" fill=\"rgb(200,170.7230846666812,50)\" />\n",
       "<circle cx=\"0\" cy=\"50\" r=\"-100\" fill=\"rgb(200,178.41927614894368,50)\" />\n",
       "</svg>"
      ],
      "text/plain": [
       "<drawsvg.drawing.Drawing at 0x1f715034c40>"
      ]
     },
     "execution_count": 3,
     "metadata": {},
     "output_type": "execute_result"
    }
   ],
   "source": [
    "methane_viz = CircleVisualization(inv_methane_values, inv_year_values)\n",
    "methane_viz.draw()"
   ]
  },
  {
   "cell_type": "code",
   "execution_count": 4,
   "metadata": {},
   "outputs": [
    {
     "data": {
      "image/svg+xml": [
       "<?xml version=\"1.0\" encoding=\"UTF-8\"?>\n",
       "<svg xmlns=\"http://www.w3.org/2000/svg\" xmlns:xlink=\"http://www.w3.org/1999/xlink\"\n",
       "     width=\"700.0\" height=\"350.0\" viewBox=\"-350.0 -175.0 700.0 350.0\" fill=\"black\">\n",
       "<defs>\n",
       "</defs>\n",
       "<circle cx=\"0\" cy=\"50\" r=\"110.0\" fill=\"rgb(200,3.419276148943652,50)\" />\n",
       "<circle cx=\"0\" cy=\"50\" r=\"104.5\" fill=\"rgb(200,11.999983967281679,50)\" />\n",
       "<circle cx=\"0\" cy=\"50\" r=\"99.0\" fill=\"rgb(200,31.17732220795449,50)\" />\n",
       "<circle cx=\"0\" cy=\"50\" r=\"93.5\" fill=\"rgb(200,43.03488632382448,50)\" />\n",
       "<circle cx=\"0\" cy=\"50\" r=\"88.0\" fill=\"rgb(200,59.21497249340595,50)\" />\n",
       "<circle cx=\"0\" cy=\"50\" r=\"82.5\" fill=\"rgb(200,69.10315947538444,50)\" />\n",
       "<circle cx=\"0\" cy=\"50\" r=\"77.0\" fill=\"rgb(200,78.7595339122901,50)\" />\n",
       "<circle cx=\"0\" cy=\"50\" r=\"71.5\" fill=\"rgb(200,85.34467403210566,50)\" />\n",
       "<circle cx=\"0\" cy=\"50\" r=\"66.0\" fill=\"rgb(200,91.30925551146356,50)\" />\n",
       "<circle cx=\"0\" cy=\"50\" r=\"60.5\" fill=\"rgb(200,103.82068519544535,50)\" />\n",
       "<circle cx=\"0\" cy=\"50\" r=\"55.0\" fill=\"rgb(200,112.34576738999431,50)\" />\n",
       "<circle cx=\"0\" cy=\"50\" r=\"49.5\" fill=\"rgb(200,116.06374169548953,50)\" />\n",
       "<circle cx=\"0\" cy=\"50\" r=\"44.0\" fill=\"rgb(200,122.83893607034301,50)\" />\n",
       "<circle cx=\"0\" cy=\"50\" r=\"38.5\" fill=\"rgb(200,129.85130674416408,50)\" />\n",
       "<circle cx=\"0\" cy=\"50\" r=\"33.0\" fill=\"rgb(200,137.33740460552502,50)\" />\n",
       "<circle cx=\"0\" cy=\"50\" r=\"27.5\" fill=\"rgb(200,145.80530508996975,50)\" />\n",
       "<circle cx=\"0\" cy=\"50\" r=\"22.0\" fill=\"rgb(200,156.10398114512142,50)\" />\n",
       "<circle cx=\"0\" cy=\"50\" r=\"16.5\" fill=\"rgb(200,164.92494146820877,50)\" />\n",
       "<circle cx=\"0\" cy=\"50\" r=\"11.0\" fill=\"rgb(200,165.49496811020268,50)\" />\n",
       "<circle cx=\"0\" cy=\"50\" r=\"5.5\" fill=\"rgb(200,170.7230846666812,50)\" />\n",
       "<circle cx=\"0\" cy=\"50\" r=\"0.0\" fill=\"rgb(200,178.41927614894368,50)\" />\n",
       "</svg>"
      ],
      "text/plain": [
       "<drawsvg.drawing.Drawing at 0x1f71503a940>"
      ]
     },
     "execution_count": 4,
     "metadata": {},
     "output_type": "execute_result"
    }
   ],
   "source": [
    "methane_viz.set_figure_scale(3.5)\n",
    "methane_viz.set_circle_spacing(5.5)\n",
    "methane_viz.set_circle_max_size(110)\n",
    "methane_viz.draw()"
   ]
  },
  {
   "cell_type": "code",
   "execution_count": 5,
   "metadata": {},
   "outputs": [],
   "source": [
    "methane_viz.draw().save_svg('methane.svg')"
   ]
  }
 ],
 "metadata": {
  "kernelspec": {
   "display_name": "Python 3 (ipykernel)",
   "language": "python",
   "name": "python3"
  },
  "language_info": {
   "codemirror_mode": {
    "name": "ipython",
    "version": 3
   },
   "file_extension": ".py",
   "mimetype": "text/x-python",
   "name": "python",
   "nbconvert_exporter": "python",
   "pygments_lexer": "ipython3",
   "version": "3.9.13"
  }
 },
 "nbformat": 4,
 "nbformat_minor": 4
}
