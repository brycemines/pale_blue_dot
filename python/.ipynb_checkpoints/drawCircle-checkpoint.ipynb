{
 "cells": [
  {
   "cell_type": "code",
   "execution_count": 98,
   "id": "3fdc3a42-b220-458a-96ce-48df57422a6d",
   "metadata": {},
   "outputs": [],
   "source": [
    "import drawsvg as draw\n",
    "from csv_data import CSVData\n",
    "import pandas as pd"
   ]
  },
  {
   "cell_type": "code",
   "execution_count": 99,
   "id": "e268db65-3317-4d70-9906-0829c9104e97",
   "metadata": {},
   "outputs": [],
   "source": [
    "methane_data = pd.read_csv('../data/methane.csv')"
   ]
  },
  {
   "cell_type": "code",
   "execution_count": 100,
   "id": "1182399b-437b-4642-89bc-7def0da63f43",
   "metadata": {},
   "outputs": [
    {
     "name": "stdout",
     "output_type": "stream",
     "text": [
      "    TIME      unknown\n",
      "0   2003  1804.555626\n",
      "1   2004  1806.806450\n",
      "2   2005  1808.335463\n",
      "3   2006  1808.502173\n",
      "4   2007  1811.081947\n",
      "5   2008  1814.093893\n",
      "6   2009  1816.570412\n",
      "7   2010  1818.759793\n",
      "8   2011  1820.810627\n",
      "9   2012  1822.792098\n",
      "10  2013  1823.879455\n",
      "11  2014  1826.372697\n",
      "12  2015  1830.031784\n",
      "13  2016  1831.776183\n",
      "14  2017  1833.702070\n",
      "15  2018  1836.526169\n",
      "16  2019  1839.418064\n",
      "17  2020  1844.150085\n",
      "18  2021  1847.617943\n",
      "19  2022  1853.226539\n",
      "20  2023  1855.736049\n"
     ]
    }
   ],
   "source": [
    "print(methane_data)"
   ]
  },
  {
   "cell_type": "code",
   "execution_count": 104,
   "id": "c0381ff4-985d-4e6c-94e1-ebfb05599ece",
   "metadata": {},
   "outputs": [],
   "source": [
    "year_values = methane_data['TIME'].values\n",
    "methane_values = methane_data['unknown'].values\n",
    "backwards_methane_values = methane_values[::-1] #inverts the methane_values: this is necessary because the drawings stack, so we want the largest circle in the back"
   ]
  },
  {
   "cell_type": "code",
   "execution_count": 103,
   "id": "52b61813-d119-43f5-be07-afecb78dee5a",
   "metadata": {},
   "outputs": [
    {
     "data": {
      "image/svg+xml": [
       "<?xml version=\"1.0\" encoding=\"UTF-8\"?>\n",
       "<svg xmlns=\"http://www.w3.org/2000/svg\" xmlns:xlink=\"http://www.w3.org/1999/xlink\"\n",
       "     width=\"200\" height=\"100\" viewBox=\"-100.0 -50.0 200 100\" fill=\"black\">\n",
       "<defs>\n",
       "</defs>\n",
       "<rect x=\"-200\" y=\"-100\" width=\"400\" height=\"200\" fill=\"black\" />\n",
       "<circle cx=\"0\" cy=\"50\" r=\"55.73604861119429\" fill=\"rgb(255,15,64)\" />\n",
       "<circle cx=\"0\" cy=\"50\" r=\"53.22653857323235\" fill=\"rgb(255,30,64)\" />\n",
       "<circle cx=\"0\" cy=\"50\" r=\"47.617942658393076\" fill=\"rgb(255,45,64)\" />\n",
       "<circle cx=\"0\" cy=\"50\" r=\"44.150084667591955\" fill=\"rgb(255,60,64)\" />\n",
       "<circle cx=\"0\" cy=\"50\" r=\"39.4180637763925\" fill=\"rgb(255,75,64)\" />\n",
       "<circle cx=\"0\" cy=\"50\" r=\"36.52616895677306\" fill=\"rgb(255,90,64)\" />\n",
       "<circle cx=\"0\" cy=\"50\" r=\"33.70206993222109\" fill=\"rgb(255,105,64)\" />\n",
       "<circle cx=\"0\" cy=\"50\" r=\"31.776182746463974\" fill=\"rgb(255,120,64)\" />\n",
       "<circle cx=\"0\" cy=\"50\" r=\"30.031783868005277\" fill=\"rgb(255,135,64)\" />\n",
       "<circle cx=\"0\" cy=\"50\" r=\"26.372696640479944\" fill=\"rgb(255,150,64)\" />\n",
       "<circle cx=\"0\" cy=\"50\" r=\"23.87945484800798\" fill=\"rgb(255,165,64)\" />\n",
       "<circle cx=\"0\" cy=\"50\" r=\"22.792097716398757\" fill=\"rgb(255,180,64)\" />\n",
       "<circle cx=\"0\" cy=\"50\" r=\"20.810627346728097\" fill=\"rgb(255,195,64)\" />\n",
       "<circle cx=\"0\" cy=\"50\" r=\"18.759792500882895\" fill=\"rgb(255,210,64)\" />\n",
       "<circle cx=\"0\" cy=\"50\" r=\"16.57041160993799\" fill=\"rgb(255,225,64)\" />\n",
       "<circle cx=\"0\" cy=\"50\" r=\"14.093893155275964\" fill=\"rgb(255,240,64)\" />\n",
       "<circle cx=\"0\" cy=\"50\" r=\"11.081946881696012\" fill=\"rgb(255,255,64)\" />\n",
       "<circle cx=\"0\" cy=\"50\" r=\"8.502172701768359\" fill=\"rgb(255,270,64)\" />\n",
       "<circle cx=\"0\" cy=\"50\" r=\"8.335462960535551\" fill=\"rgb(255,285,64)\" />\n",
       "<circle cx=\"0\" cy=\"50\" r=\"6.806450289800068\" fill=\"rgb(255,300,64)\" />\n",
       "<circle cx=\"0\" cy=\"50\" r=\"4.555625510806976\" fill=\"rgb(255,315,64)\" />\n",
       "</svg>"
      ],
      "text/plain": [
       "<drawsvg.drawing.Drawing at 0x185be594f70>"
      ]
     },
     "execution_count": 103,
     "metadata": {},
     "output_type": "execute_result"
    }
   ],
   "source": [
    "d = draw.Drawing(200, 100, origin='center', fill='black') #creates drawing/canvas\n",
    "i = 15 #values which the red to yellow hue changes at\n",
    "green = 0 #resets green value each time it is run\n",
    "\n",
    "d.append(draw.Rectangle(-200,-100,400,200, fill='black')) #background\n",
    "\n",
    "for value in backwards_methane_values:\n",
    "    radius = value - 1800 #creates value for radius\n",
    "    red = 255\n",
    "    green += i\n",
    "    blue = 64\n",
    "    color = \"rgb(\"+str(red)+\",\"+str(green)+\",\"+str(blue)+\")\" #sets color\n",
    "    d.append(draw.Circle(0, 50, radius, fill=color)) #creates circle\n",
    "d"
   ]
  },
  {
   "cell_type": "code",
   "execution_count": 74,
   "id": "6be777a3-3b14-4011-a618-a86c3835c1f6",
   "metadata": {},
   "outputs": [
    {
     "data": {
      "image/svg+xml": [
       "<?xml version=\"1.0\" encoding=\"UTF-8\"?>\n",
       "<svg xmlns=\"http://www.w3.org/2000/svg\" xmlns:xlink=\"http://www.w3.org/1999/xlink\"\n",
       "     width=\"200\" height=\"100\" viewBox=\"-100.0 -50.0 200 100\">\n",
       "<defs>\n",
       "</defs>\n",
       "<circle cx=\"-50\" cy=\"50\" r=\"50\" fill=\"rgb(255,128,64)\" />\n",
       "</svg>"
      ],
      "text/plain": [
       "<drawsvg.drawing.Drawing at 0x185be508eb0>"
      ]
     },
     "execution_count": 74,
     "metadata": {},
     "output_type": "execute_result"
    }
   ],
   "source": [
    "#experimental cell (I used it do familiarize myself with the functions of the drawsvg library)\n",
    "\n",
    "d = draw.Drawing(200, 100, origin='center')\n",
    "# Draw a circle\n",
    "red = 255\n",
    "green = 128\n",
    "blue = 64\n",
    "color = \"rgb(\"+str(red)+\",\"+str(green)+\",\"+str(blue)+\")\"\n",
    "d.append(draw.Circle(-50, 50, 50, fill=str(color)))\n",
    "d"
   ]
  }
 ],
 "metadata": {
  "kernelspec": {
   "display_name": "Python 3 (ipykernel)",
   "language": "python",
   "name": "python3"
  },
  "language_info": {
   "codemirror_mode": {
    "name": "ipython",
    "version": 3
   },
   "file_extension": ".py",
   "mimetype": "text/x-python",
   "name": "python",
   "nbconvert_exporter": "python",
   "pygments_lexer": "ipython3",
   "version": "3.9.13"
  }
 },
 "nbformat": 4,
 "nbformat_minor": 5
}
