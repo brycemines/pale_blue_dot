{
 "cells": [
  {
   "cell_type": "code",
   "execution_count": null,
   "metadata": {},
   "outputs": [],
   "source": [
    "from csv_data import CSVData"
   ]
  },
  {
   "cell_type": "code",
   "execution_count": null,
   "metadata": {},
   "outputs": [],
   "source": [
    "# initialize the data\n",
    "air_data = CSVData('../data/water_potability.csv')"
   ]
  },
  {
   "cell_type": "code",
   "execution_count": null,
   "metadata": {},
   "outputs": [],
   "source": [
    "# as of now, this just removes all rows with nan values\n",
    "air_data.clean_data()\n",
    "\n",
    "# use this method to display the stats of the data\n",
    "air_data.display_stats()\n",
    "\n",
    "# use this method to select only the columns you want to keep\n",
    "air_data.select_wanted_columns(['ph', 'Sulfate', 'Potability'])\n",
    "\n",
    "# use pygwalker to use interactive data plotting\n",
    "air_data.show()"
   ]
  },
  {
   "cell_type": "code",
   "execution_count": null,
   "metadata": {},
   "outputs": [],
   "source": [
    "# to save dataframe created, use this method\n",
    "air_data.save_dataframe(filename=\"example.csv\")"
   ]
  }
 ],
 "metadata": {
  "kernelspec": {
   "display_name": "base",
   "language": "python",
   "name": "python3"
  },
  "language_info": {
   "codemirror_mode": {
    "name": "ipython",
    "version": 3
   },
   "file_extension": ".py",
   "mimetype": "text/x-python",
   "name": "python",
   "nbconvert_exporter": "python",
   "pygments_lexer": "ipython3",
   "version": "3.11.4"
  }
 },
 "nbformat": 4,
 "nbformat_minor": 2
}
