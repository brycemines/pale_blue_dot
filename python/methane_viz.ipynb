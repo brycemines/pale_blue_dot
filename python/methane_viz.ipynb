{
 "cells": [
  {
   "cell_type": "code",
   "execution_count": 1,
   "metadata": {},
   "outputs": [],
   "source": [
    "import numpy as np \n",
    "import pandas as pd \n",
    "from circle_visualization import *"
   ]
  },
  {
   "cell_type": "code",
   "execution_count": 2,
   "metadata": {},
   "outputs": [],
   "source": [
    "# read the methane data\n",
    "methane_data = pd.read_csv('../data/methane.csv')\n",
    "\n",
    "# get the values for the methane data into numpy arrays\n",
    "year_values = methane_data['TIME'].values\n",
    "methane_values = methane_data['unknown'].values\n",
    "\n",
    "# invert the values because we start with the outermost circle, and layer the\n",
    "# others on top.\n",
    "inv_methane_values = methane_values[::-1]\n",
    "inv_year_values = year_values[::-1]"
   ]
  },
  {
   "cell_type": "code",
   "execution_count": 3,
   "metadata": {},
   "outputs": [],
   "source": [
    "#cell creates new list with difference between methane values\n",
    "i=0\n",
    "diff_methane_values = []\n",
    "old = 0\n",
    "for value in inv_methane_values:\n",
    "    if i != 0:\n",
    "        diff_methane_values.append(value-old)\n",
    "    old = value\n",
    "    i = i+1"
   ]
  },
  {
   "cell_type": "code",
   "execution_count": 4,
   "metadata": {},
   "outputs": [
    {
     "name": "stdout",
     "output_type": "stream",
     "text": [
      "[-2.5095100379619453, -5.60859591483927, -3.4678579908011216, -4.732020891199454, -2.891894819619438, -2.8240990245519697, -1.9258871857571194, -1.7443988784586963, -3.659087227525333, -2.493241792471963, -1.0873571316092239, -1.9814703696706601, -2.050834845845202, -2.1893808909449035, -2.4765184546620276, -3.0119462735799516, -2.5797741799276537, -0.16670974123280757, -1.529012670735483, -2.250824778993092]\n"
     ]
    }
   ],
   "source": [
    "# note, the magnitude of the values is important, the sign does not matter;\n",
    "# however, we need to flip some values later.\n",
    "print(diff_methane_values)"
   ]
  },
  {
   "cell_type": "code",
   "execution_count": 5,
   "metadata": {},
   "outputs": [
    {
     "data": {
      "image/svg+xml": [
       "<?xml version=\"1.0\" encoding=\"UTF-8\"?>\n",
       "<svg xmlns=\"http://www.w3.org/2000/svg\" xmlns:xlink=\"http://www.w3.org/1999/xlink\"\n",
       "     width=\"1100.0\" height=\"550.0\" viewBox=\"-550.0 -275.0 1100.0 550.0\" fill=\"black\">\n",
       "<defs>\n",
       "</defs>\n",
       "<circle cx=\"0\" cy=\"50\" r=\"200\" fill=\"rgb(200,99.66030364323309,50)\" />\n",
       "<circle cx=\"0\" cy=\"50\" r=\"190\" fill=\"rgb(200,0.0,50)\" />\n",
       "<circle cx=\"0\" cy=\"50\" r=\"180\" fill=\"rgb(200,68.84178109488107,50)\" />\n",
       "<circle cx=\"0\" cy=\"50\" r=\"170\" fill=\"rgb(200,28.188871329387936,50)\" />\n",
       "<circle cx=\"0\" cy=\"50\" r=\"160\" fill=\"rgb(200,87.36358617151986,50)\" />\n",
       "<circle cx=\"0\" cy=\"50\" r=\"150\" fill=\"rgb(200,89.54376116201296,50)\" />\n",
       "<circle cx=\"0\" cy=\"50\" r=\"140\" fill=\"rgb(200,118.42842849509083,50)\" />\n",
       "<circle cx=\"0\" cy=\"50\" r=\"130\" fill=\"rgb(200,124.26472362586084,50)\" />\n",
       "<circle cx=\"0\" cy=\"50\" r=\"120\" fill=\"rgb(200,62.69223746990683,50)\" />\n",
       "<circle cx=\"0\" cy=\"50\" r=\"110\" fill=\"rgb(200,100.18345735683974,50)\" />\n",
       "<circle cx=\"0\" cy=\"50\" r=\"100\" fill=\"rgb(200,145.39385092299727,50)\" />\n",
       "<circle cx=\"0\" cy=\"50\" r=\"90\" fill=\"rgb(200,116.64098626007193,50)\" />\n",
       "<circle cx=\"0\" cy=\"50\" r=\"80\" fill=\"rgb(200,114.4103656731477,50)\" />\n",
       "<circle cx=\"0\" cy=\"50\" r=\"70\" fill=\"rgb(200,109.9550064247238,50)\" />\n",
       "<circle cx=\"0\" cy=\"50\" r=\"60\" fill=\"rgb(200,100.72124591458885,50)\" />\n",
       "<circle cx=\"0\" cy=\"50\" r=\"50\" fill=\"rgb(200,83.50297538826145,50)\" />\n",
       "<circle cx=\"0\" cy=\"50\" r=\"40\" fill=\"rgb(200,97.40075163282233,50)\" />\n",
       "<circle cx=\"0\" cy=\"50\" r=\"30\" fill=\"rgb(200,175.0,50)\" />\n",
       "<circle cx=\"0\" cy=\"50\" r=\"20\" fill=\"rgb(200,131.1911063448479,50)\" />\n",
       "<circle cx=\"0\" cy=\"50\" r=\"10\" fill=\"rgb(200,107.97909585522599,50)\" />\n",
       "</svg>"
      ],
      "text/plain": [
       "<drawsvg.drawing.Drawing at 0x2be16256e90>"
      ]
     },
     "execution_count": 5,
     "metadata": {},
     "output_type": "execute_result"
    }
   ],
   "source": [
    "# create the visualization\n",
    "methane_viz = CircleVisualization(diff_methane_values)\n",
    "methane_viz.set_circle_spacing(10) # change the radius increment of the circles\n",
    "methane_viz.set_figure_scale(5.5) # change the size of the figure\n",
    "methane_viz.set_circle_max_size(200) # change the maximum size of the circles\n",
    "methane_viz.draw() # draw the visualization"
   ]
  },
  {
   "cell_type": "code",
   "execution_count": 6,
   "metadata": {},
   "outputs": [
    {
     "data": {
      "image/svg+xml": [
       "<?xml version=\"1.0\" encoding=\"UTF-8\"?>\n",
       "<svg xmlns=\"http://www.w3.org/2000/svg\" xmlns:xlink=\"http://www.w3.org/1999/xlink\"\n",
       "     width=\"1100.0\" height=\"550.0\" viewBox=\"-550.0 -275.0 1100.0 550.0\" fill=\"black\">\n",
       "<defs>\n",
       "<linearGradient x1=\"250\" y1=\"-50\" x2=\"275\" y2=\"50\" gradientUnits=\"userSpaceOnUse\" id=\"IfWA2BkB0\">\n",
       "<stop offset=\"0\" stop-color=\"rgb(200,0.0,50)\" stop-opacity=\"1\" />\n",
       "<stop offset=\"1\" stop-color=\"rgb(200,175.0,50)\" stop-opacity=\"1\" />\n",
       "</linearGradient>\n",
       "</defs>\n",
       "<rect x=\"275\" y=\"-50\" width=\"25\" height=\"100\" stroke=\"black\" stroke-width=\"0.002\" fill=\"url(#IfWA2BkB0)\" />\n",
       "</svg>"
      ],
      "text/plain": [
       "<drawsvg.drawing.Drawing at 0x2be25b33a90>"
      ]
     },
     "execution_count": 6,
     "metadata": {},
     "output_type": "execute_result"
    }
   ],
   "source": [
    "# create the colorbar NOTE: only the magnitude of the values is important, so\n",
    "# the minimum value has the larger magnitude and hence is the maximum magnitude\n",
    "# value. This is only because we flipped the array at the beginning.\n",
    "methane_viz.draw_colorbar()"
   ]
  }
 ],
 "metadata": {
  "kernelspec": {
   "display_name": "Python 3 (ipykernel)",
   "language": "python",
   "name": "python3"
  },
  "language_info": {
   "codemirror_mode": {
    "name": "ipython",
    "version": 3
   },
   "file_extension": ".py",
   "mimetype": "text/x-python",
   "name": "python",
   "nbconvert_exporter": "python",
   "pygments_lexer": "ipython3",
   "version": "3.11.4"
  }
 },
 "nbformat": 4,
 "nbformat_minor": 4
}
