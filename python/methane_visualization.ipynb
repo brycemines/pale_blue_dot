{
 "cells": [
  {
   "cell_type": "code",
   "execution_count": 6,
   "id": "3fdc3a42-b220-458a-96ce-48df57422a6d",
   "metadata": {},
   "outputs": [],
   "source": [
    "import drawsvg as draw\n",
    "from csv_data import CSVData\n",
    "import pandas as pd"
   ]
  },
  {
   "cell_type": "code",
   "execution_count": 7,
   "id": "e268db65-3317-4d70-9906-0829c9104e97",
   "metadata": {},
   "outputs": [],
   "source": [
    "methane_data = pd.read_csv('../data/methane.csv')\n",
    "\n",
    "year_values = methane_data['TIME'].values\n",
    "methane_values = methane_data['unknown'].values\n",
    "\n",
    "# get the most recent 10 years\n",
    "recent_methane_values = methane_values[:]\n",
    "recent_year_values = year_values[:]\n",
    "\n",
    "inv_methane_values = recent_methane_values[::-1]\n",
    "inv_year_values = recent_year_values[::-1]"
   ]
  },
  {
   "cell_type": "code",
   "execution_count": 8,
   "id": "1182399b-437b-4642-89bc-7def0da63f43",
   "metadata": {},
   "outputs": [],
   "source": [
    "#cell creates new list with difference between methane values\n",
    "i=0\n",
    "diff_methane_values = []\n",
    "old = 0\n",
    "for value in recent_methane_values:\n",
    "    if i != 0:\n",
    "        diff_methane_values.append(value-old)\n",
    "    old = value\n",
    "    i = i+1"
   ]
  },
  {
   "cell_type": "code",
   "execution_count": 4,
   "id": "c0381ff4-985d-4e6c-94e1-ebfb05599ece",
   "metadata": {},
   "outputs": [],
   "source": []
  },
  {
   "cell_type": "code",
   "execution_count": 31,
   "id": "52b61813-d119-43f5-be07-afecb78dee5a",
   "metadata": {},
   "outputs": [
    {
     "name": "stdout",
     "output_type": "stream",
     "text": [
      "38\n",
      "39\n",
      "40\n",
      "41\n",
      "42\n",
      "43\n",
      "44\n",
      "45\n",
      "46\n",
      "47\n",
      "48\n",
      "49\n",
      "50\n",
      "51\n",
      "52\n",
      "53\n",
      "54\n",
      "55\n",
      "56\n",
      "57\n"
     ]
    },
    {
     "data": {
      "image/svg+xml": [
       "<?xml version=\"1.0\" encoding=\"UTF-8\"?>\n",
       "<svg xmlns=\"http://www.w3.org/2000/svg\" xmlns:xlink=\"http://www.w3.org/1999/xlink\"\n",
       "     width=\"200\" height=\"100\" viewBox=\"-100.0 -50.0 200 100\" fill=\"black\">\n",
       "<defs>\n",
       "</defs>\n",
       "<rect x=\"-200\" y=\"-100\" width=\"400\" height=\"200\" fill=\"black\" />\n",
       "<circle cx=\"0\" cy=\"50\" r=\"38\" fill=\"rgb(255,153.76237168489638,64)\" />\n",
       "<circle cx=\"0\" cy=\"50\" r=\"39\" fill=\"rgb(255,142.93519006103224,64)\" />\n",
       "<circle cx=\"0\" cy=\"50\" r=\"40\" fill=\"rgb(255,122.50064611849211,64)\" />\n",
       "<circle cx=\"0\" cy=\"50\" r=\"41\" fill=\"rgb(255,158.6966126989148,64)\" />\n",
       "<circle cx=\"0\" cy=\"50\" r=\"42\" fill=\"rgb(255,165.17919410369927,64)\" />\n",
       "<circle cx=\"0\" cy=\"50\" r=\"43\" fill=\"rgb(255,157.1477768199304,64)\" />\n",
       "<circle cx=\"0\" cy=\"50\" r=\"44\" fill=\"rgb(255,152.84071336417355,64)\" />\n",
       "<circle cx=\"0\" cy=\"50\" r=\"45\" fill=\"rgb(255,150.76252268767803,64)\" />\n",
       "<circle cx=\"0\" cy=\"50\" r=\"46\" fill=\"rgb(255,149.7220555450599,64)\" />\n",
       "<circle cx=\"0\" cy=\"50\" r=\"47\" fill=\"rgb(255,136.31035697413836,64)\" />\n",
       "<circle cx=\"0\" cy=\"50\" r=\"48\" fill=\"rgb(255,157.39862688707944,64)\" />\n",
       "<circle cx=\"0\" cy=\"50\" r=\"49\" fill=\"rgb(255,174.88630841288,64)\" />\n",
       "<circle cx=\"0\" cy=\"50\" r=\"50\" fill=\"rgb(255,146.16598317688045,64)\" />\n",
       "<circle cx=\"0\" cy=\"50\" r=\"51\" fill=\"rgb(255,148.8883077863568,64)\" />\n",
       "<circle cx=\"0\" cy=\"50\" r=\"52\" fill=\"rgb(255,162.36148536827955,64)\" />\n",
       "<circle cx=\"0\" cy=\"50\" r=\"53\" fill=\"rgb(255,163.37842229429157,64)\" />\n",
       "<circle cx=\"0\" cy=\"50\" r=\"54\" fill=\"rgb(255,190.9803133679918,64)\" />\n",
       "<circle cx=\"0\" cy=\"50\" r=\"55\" fill=\"rgb(255,172.01786986201682,64)\" />\n",
       "<circle cx=\"0\" cy=\"50\" r=\"56\" fill=\"rgb(255,204.12893872258906,64)\" />\n",
       "<circle cx=\"0\" cy=\"50\" r=\"57\" fill=\"rgb(255,157.64265056942918,64)\" />\n",
       "</svg>"
      ],
      "text/plain": [
       "<drawsvg.drawing.Drawing at 0x1b383880d00>"
      ]
     },
     "execution_count": 31,
     "metadata": {},
     "output_type": "execute_result"
    }
   ],
   "source": [
    "d = draw.Drawing(200, 100, origin='center', fill='black')\n",
    "i = 15\n",
    "r = 8\n",
    "green = 0\n",
    "\n",
    "d.append(draw.Rectangle(-200,-100,400,200, fill='black'))\n",
    "\n",
    "for value in diff_methane_values:\n",
    "    radius = 30+r\n",
    "    red = 255\n",
    "    green = 120+(value*15)\n",
    "    blue = 64\n",
    "    color = \"rgb(\"+str(red)+\",\"+str(green)+\",\"+str(blue)+\")\"\n",
    "    d.append(draw.Circle(0, 50, radius, fill=color))\n",
    "    r = r+1\n",
    "    print(radius)\n",
    "d"
   ]
  },
  {
   "cell_type": "code",
   "execution_count": 74,
   "id": "6be777a3-3b14-4011-a618-a86c3835c1f6",
   "metadata": {},
   "outputs": [
    {
     "data": {
      "image/svg+xml": [
       "<?xml version=\"1.0\" encoding=\"UTF-8\"?>\n",
       "<svg xmlns=\"http://www.w3.org/2000/svg\" xmlns:xlink=\"http://www.w3.org/1999/xlink\"\n",
       "     width=\"200\" height=\"100\" viewBox=\"-100.0 -50.0 200 100\">\n",
       "<defs>\n",
       "</defs>\n",
       "<circle cx=\"-50\" cy=\"50\" r=\"50\" fill=\"rgb(255,128,64)\" />\n",
       "</svg>"
      ],
      "text/plain": [
       "<drawsvg.drawing.Drawing at 0x185be508eb0>"
      ]
     },
     "execution_count": 74,
     "metadata": {},
     "output_type": "execute_result"
    }
   ],
   "source": [
    "#experimental cell (I used it do familiarize myself with the functions of the drawsvg library)\n",
    "\n",
    "d = draw.Drawing(200, 100, origin='center')\n",
    "# Draw a circle\n",
    "red = 255\n",
    "green = 128\n",
    "blue = 64\n",
    "color = \"rgb(\"+str(red)+\",\"+str(green)+\",\"+str(blue)+\")\"\n",
    "d.append(draw.Circle(-50, 50, 50, fill=str(color)))\n",
    "d"
   ]
  }
 ],
 "metadata": {
  "kernelspec": {
   "display_name": "Python 3 (ipykernel)",
   "language": "python",
   "name": "python3"
  },
  "language_info": {
   "codemirror_mode": {
    "name": "ipython",
    "version": 3
   },
   "file_extension": ".py",
   "mimetype": "text/x-python",
   "name": "python",
   "nbconvert_exporter": "python",
   "pygments_lexer": "ipython3",
   "version": "3.9.13"
  }
 },
 "nbformat": 4,
 "nbformat_minor": 5
}
